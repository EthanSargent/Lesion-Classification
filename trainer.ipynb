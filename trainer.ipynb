{
 "cells": [
  {
   "cell_type": "code",
   "execution_count": 17,
   "metadata": {},
   "outputs": [],
   "source": [
    "import torch\n",
    "import torch.utils.data as data_utils\n",
    "import torch.nn as nn\n",
    "import torch.optim as optim\n",
    "import torchvision.models as models\n",
    "import tqdm\n",
    "import time\n",
    "import copy\n",
    "import matplotlib.pyplot as plt\n",
    "import numpy as np\n",
    "from torch.optim import lr_scheduler\n",
    "from torchvision import datasets\n",
    "from sklearn.metrics import roc_curve\n",
    "from sklearn.metrics import roc_auc_score\n",
    "from sklearn.metrics import precision_recall_curve\n",
    "from sklearn.metrics import confusion_matrix\n",
    "\n",
    "max_epochs=3\n",
    "\n",
    "# CUDA for PyTorch\n",
    "use_cuda = torch.cuda.is_available()\n",
    "device = torch.device(\"cuda:0\" if use_cuda else \"cpu\")"
   ]
  },
  {
   "cell_type": "code",
   "execution_count": 8,
   "metadata": {},
   "outputs": [],
   "source": [
    "def train_model(model, criterion, optimizer, scheduler=None, num_epochs=25, chunks=9,\\\n",
    "               debug=False):\n",
    "    since = time.time()\n",
    "\n",
    "    best_model_wts = copy.deepcopy(model.state_dict())\n",
    "    best_acc = 0.0\n",
    "    \n",
    "    for epoch in range(num_epochs):\n",
    "        print('Epoch {}/{}'.format(epoch+1, num_epochs))\n",
    "        print('-' * 10)\n",
    "\n",
    "        # Each epoch has a training and validation phase\n",
    "        for phase in ['train', 'val']:\n",
    "            if phase == 'train':\n",
    "                model.train()  # Set model to training mode\n",
    "            else:\n",
    "                model.eval()   # Set model to evaluate mode\n",
    "\n",
    "            running_loss = 0.0\n",
    "            running_corrects = 0\n",
    "\n",
    "            # Iterate over data.\n",
    "            for chunk in range(chunks):\n",
    "                X, Y = torch.load('data/images-' + str(chunk) + '.pt'),\\\n",
    "                       torch.load('data/labels-' + str(chunk) + '.pt')\n",
    "                train = data_utils.TensorDataset(X, Y)\n",
    "                train_loader = data_utils.DataLoader(train, batch_size=64, shuffle=True)\n",
    "            \n",
    "                for inputs, labels in train_loader:\n",
    "                    inputs = inputs.to(device)\n",
    "                    labels = labels.to(device)\n",
    "\n",
    "                    # zero the parameter gradients\n",
    "                    optimizer.zero_grad()\n",
    "                    # forward\n",
    "                    # track history if only in train\n",
    "                    with torch.set_grad_enabled(phase == 'train'):\n",
    "                        outputs = model(inputs)\n",
    "                        _, preds = torch.max(outputs, 1)\n",
    "                        loss = criterion(outputs, labels)\n",
    "                        \n",
    "                        if debug:\n",
    "                            print(outputs)\n",
    "\n",
    "                        # backward + optimize only if in training phase\n",
    "                        if phase == 'train':\n",
    "                            loss.backward()\n",
    "                            optimizer.step()\n",
    "\n",
    "                    # statistics\n",
    "                    running_loss += loss.item() * inputs.size(0)\n",
    "                    running_corrects += torch.sum(preds == labels.data)\n",
    "                if phase == 'train' and scheduler:\n",
    "                    scheduler.step()\n",
    "\n",
    "            epoch_loss = running_loss / (chunks*2169)\n",
    "            epoch_acc = running_corrects.double() / (chunks*2169)\n",
    "\n",
    "            print('{} Loss: {:.4f} Acc: {:.4f}'.format(\n",
    "                phase, epoch_loss, epoch_acc))\n",
    "\n",
    "            # deep copy the model\n",
    "            if phase == 'val' and epoch_acc > best_acc:\n",
    "                best_acc = epoch_acc\n",
    "                best_model_wts = copy.deepcopy(model.state_dict())\n",
    "\n",
    "    time_elapsed = time.time() - since\n",
    "    print('Training complete in {:.0f}m {:.0f}s'.format(\n",
    "        time_elapsed // 60, time_elapsed % 60))\n",
    "    print('Best val Acc: {:4f}'.format(best_acc))\n",
    "\n",
    "    # load best model weights\n",
    "    model.load_state_dict(best_model_wts)\n",
    "    return model"
   ]
  },
  {
   "cell_type": "code",
   "execution_count": 24,
   "metadata": {},
   "outputs": [],
   "source": [
    "def summarize(all_outputs, all_labels):\n",
    "    ''' Display the confusion matrix, ROC AUC score, and call to a function to \n",
    "        display ROC and precision-recall curves.\n",
    "    '''\n",
    "    _, all_preds = torch.max(all_outputs, 1)\n",
    "    preds = all_preds.detach().numpy()\n",
    "    labels = all_labels.detach().numpy()\n",
    "    tn, fp, fn, tp = confusion_matrix(labels, preds).ravel()\n",
    "    \n",
    "    print(\"True negatives: \" + str(tn))\n",
    "    print(\"False positives: \" + str(fp))\n",
    "    print(\"False negatives: \" + str(fn))\n",
    "    print(\"True positives: \" + str(tp))\n",
    "    \n",
    "    get_curves(all_outputs, all_labels)\n",
    "    "
   ]
  },
  {
   "cell_type": "code",
   "execution_count": 25,
   "metadata": {},
   "outputs": [],
   "source": [
    "def get_curves(all_outputs, all_labels):\n",
    "    ''' Take torch tensors of all model outputs, all model labels\n",
    "        and display an roc curve and a precision recall curve.\n",
    "    '''\n",
    "    sm = nn.Softmax(dim=1)\n",
    "    roc_preds = sm(all_outputs).detach().numpy()[:,1]\n",
    "    roc_labels = all_labels.detach().numpy()\n",
    "    \n",
    "    auc = roc_auc_score(roc_labels, roc_preds)\n",
    "    print(\"Area under ROC curve: \" + str(auc))\n",
    "    \n",
    "    fpr, tpr, thresholds = roc_curve(roc_labels, roc_preds)\n",
    "    precision, recall, thresholds = precision_recall_curve(roc_labels, roc_preds)\n",
    "    \n",
    "    plt.subplot(1,2,1)\n",
    "    plt.plot(fpr, tpr, label='your model')\n",
    "    plt.plot(np.asarray([.1, .1]), np.asarray([1., 1.]), label='random model')\n",
    "    plt.xlabel(\"False positive rate\")\n",
    "    plt.ylabel(\"True positive rate\")\n",
    "    plt.title(\"ROC curve\")\n",
    "    \n",
    "    plt.subplot(1,2,2)\n",
    "    plt.plot(precision, recall, label='your model')\n",
    "    plt.plot(np.asarray([0.1, 1.0]), np.asarray([.1, .1]), label='random model')\n",
    "    plt.xlabel('Precision')\n",
    "    plt.ylabel('Recall')\n",
    "    plt.title('Precision/recall curve')\n",
    "    plt.legend(loc='upper right')\n",
    "    plt.tight_layout()\n",
    "    plt.show()"
   ]
  },
  {
   "cell_type": "code",
   "execution_count": 5,
   "metadata": {},
   "outputs": [],
   "source": [
    "def test_model(model, criterion):\n",
    "    model.eval()\n",
    "    X, Y = torch.load('data/images-9.pt'),\\\n",
    "           torch.load('data/labels-9.pt')\n",
    "    running_loss = 0.0\n",
    "    running_corrects = 0\n",
    "    train = data_utils.TensorDataset(X, Y)\n",
    "    \n",
    "    all_outputs = []\n",
    "    all_labels = []\n",
    "    \n",
    "    train_loader = data_utils.DataLoader(train, batch_size=64, shuffle=True)\n",
    "    for inputs, labels in train_loader:\n",
    "        inputs = inputs.to(device)\n",
    "        labels = labels.to(device)\n",
    "\n",
    "        outputs = model(inputs)\n",
    "        _, preds = torch.max(outputs, 1)\n",
    "        loss = criterion(outputs, labels)\n",
    "\n",
    "        # statistics\n",
    "        running_loss += loss.item() * inputs.size(0)\n",
    "        running_corrects += torch.sum(preds == labels.data)\n",
    "        \n",
    "        all_outputs.append(outputs.cpu())\n",
    "        all_labels.append(labels.cpu())\n",
    "            \n",
    "    loss = running_loss\n",
    "    acc = running_corrects.double() / (len(Y))\n",
    "\n",
    "    print('Test Loss: {:.4f} Acc: {:.4f}'.format(\n",
    "        loss, acc))\n",
    "    \n",
    "    all_outputs = torch.cat((*all_outputs,))\n",
    "    all_labels = torch.cat((*all_labels,))\n",
    "    \n",
    "    return all_outputs, all_labels"
   ]
  },
  {
   "cell_type": "markdown",
   "metadata": {},
   "source": [
    "# Modeling\n",
    "Models are stored in the `models/` directory in the following format: `{ID}-{weight}-{score}.pt`. `ID` is given as `p-q` for model number `p.q`. The `{weight}` is the weight assigned to the positive class in the loss function to correct for the class imbalance. The `{score}` is the test accuracy on the un-thresholded network - that is, with the network simply predicting the class with the highest activation.\n",
    "\n",
    "Due to the substantial class imbalance, a random classifier which predicted the negative class would have an accuracy of roughly $90%$, so this is not a robust metric. Hence, we have constructed the `summarize` function to display a model's ROC Curve, its Precision-recall curve, and its confusion matrix."
   ]
  },
  {
   "cell_type": "markdown",
   "metadata": {},
   "source": [
    "# 1_1 VGG-19\n",
    "Here we replace the fully-connected layer of a VGG-19 with two output neurons for binary classification. To combat the class imbalance, we penalize misclassifications in the positive class with a weighting of $6$."
   ]
  },
  {
   "cell_type": "code",
   "execution_count": null,
   "metadata": {},
   "outputs": [],
   "source": [
    "model = models.vgg19(pretrained=False)\n",
    "\n",
    "for param in model.parameters():\n",
    "    param.requires_grad = False\n",
    "    \n",
    "in_features = model.classifier[-1].in_features\n",
    "\n",
    "model.classifier[6] = nn.Linear(in_features, 2)\n",
    "model = model.cuda()\n",
    "\n",
    "criterion = nn.CrossEntropyLoss(weight=torch.Tensor([1,6]).to(device))\n",
    "optimizer = optim.SGD(model.parameters(), lr=0.005, momentum=0.9)\n",
    "exp_lr_scheduler = lr_scheduler.StepLR(optimizer, step_size=7, gamma=0.1)"
   ]
  },
  {
   "cell_type": "code",
   "execution_count": null,
   "metadata": {},
   "outputs": [],
   "source": [
    "train_model(model, criterion, optimizer, scheduler, num_epochs=25, chunks=9):"
   ]
  },
  {
   "cell_type": "code",
   "execution_count": 30,
   "metadata": {},
   "outputs": [
    {
     "name": "stdout",
     "output_type": "stream",
     "text": [
      "Test Loss: 20673.3715 Acc: 0.8983\n",
      "True negatives: 1944\n",
      "False positives: 11\n",
      "False negatives: 210\n",
      "True positives: 7\n",
      "Area under ROC curve: 0.6775560715169658\n"
     ]
    },
    {
     "data": {
      "image/png": "[encoded data removed]",
      "text/plain": [
       "<Figure size 432x288 with 2 Axes>"
      ]
     },
     "metadata": {
      "needs_background": "light"
     },
     "output_type": "display_data"
    }
   ],
   "source": [
    "model = torch.load('models/1_1.pt')\n",
    "all_outputs, all_labels = test_model(model, nn.CrossEntropyLoss())\n",
    "summarize(all_outputs, all_labels)"
   ]
  },
  {
   "cell_type": "markdown",
   "metadata": {},
   "source": [
    "# 1_2 VGG-19\n",
    "Here we add a classifier on top of VGG-19 with the hope of extracting higher-level lesion features."
   ]
  },
  {
   "cell_type": "code",
   "execution_count": 7,
   "metadata": {},
   "outputs": [],
   "source": [
    "model = models.vgg19(pretrained=False)\n",
    "\n",
    "for param in model.parameters():\n",
    "    param.requires_grad = False\n",
    "    \n",
    "in_features = model.classifier[-1].in_features\n",
    "\n",
    "model.classifier[6] = nn.Linear(in_features, 2)\n",
    "model = model.cuda()\n",
    "\n",
    "criterion = nn.CrossEntropyLoss(weight=torch.Tensor([1,6]).to(device))\n",
    "optimizer = optim.SGD(model.parameters(), lr=0.001, momentum=0.9)\n",
    "exp_lr_scheduler = lr_scheduler.StepLR(optimizer, step_size=7, gamma=0.1)"
   ]
  },
  {
   "cell_type": "code",
   "execution_count": 27,
   "metadata": {},
   "outputs": [
    {
     "name": "stdout",
     "output_type": "stream",
     "text": [
      "Test Loss: 12592.7018 Acc: 0.8959\n",
      "True negatives: 1927\n",
      "False positives: 28\n",
      "False negatives: 198\n",
      "True positives: 19\n",
      "Area under ROC curve: 0.7400285219277051\n"
     ]
    },
    {
     "data": {
      "image/png": "[encoded data removed]",
      "text/plain": [
       "<Figure size 432x288 with 2 Axes>"
      ]
     },
     "metadata": {
      "needs_background": "light"
     },
     "output_type": "display_data"
    }
   ],
   "source": [
    "model = torch.load('models/1_2.pt')\n",
    "all_outputs, all_labels = test_model(model, nn.CrossEntropyLoss())\n",
    "summarize(all_outputs, all_labels)"
   ]
  },
  {
   "cell_type": "markdown",
   "metadata": {},
   "source": [
    "# 1_3 VGG-19\n",
    "Here, we switch to the Adam optimizer."
   ]
  },
  {
   "cell_type": "code",
   "execution_count": 15,
   "metadata": {},
   "outputs": [],
   "source": [
    "model = models.vgg19(pretrained=False)\n",
    "\n",
    "for param in model.parameters():\n",
    "    param.requires_grad = False\n",
    "    \n",
    "in_features = model.classifier[-1].in_features\n",
    "\n",
    "model.classifier[6] = nn.Sequential(\n",
    "                      nn.Linear(in_features, 256),\n",
    "                      nn.ReLU(), \n",
    "                      nn.Dropout(0.4),\n",
    "                      nn.Linear(256, 2))\n",
    "\n",
    "model = model.cuda()\n",
    "\n",
    "criterion = nn.CrossEntropyLoss(weight=torch.Tensor([1,7.375]).to(device))\n",
    "optimizer = optim.Adam(model.parameters())\n"
   ]
  },
  {
   "cell_type": "code",
   "execution_count": null,
   "metadata": {
    "scrolled": true
   },
   "outputs": [],
   "source": [
    "train_model(model, criterion, optimizer, num_epochs=25, chunks=9)"
   ]
  },
  {
   "cell_type": "code",
   "execution_count": 28,
   "metadata": {},
   "outputs": [
    {
     "name": "stdout",
     "output_type": "stream",
     "text": [
      "Test Loss: 1423.8181 Acc: 0.9001\n",
      "True negatives: 1955\n",
      "False positives: 0\n",
      "False negatives: 217\n",
      "True positives: 0\n",
      "Area under ROC curve: 0.5\n"
     ]
    },
    {
     "data": {
      "image/png": "[encoded data removed]",
      "text/plain": [
       "<Figure size 432x288 with 2 Axes>"
      ]
     },
     "metadata": {
      "needs_background": "light"
     },
     "output_type": "display_data"
    }
   ],
   "source": [
    "model = torch.load('models/1_3.pt')\n",
    "all_outputs, all_labels = test_model(model, nn.CrossEntropyLoss())\n",
    "summarize(all_outputs, all_labels)"
   ]
  },
  {
   "cell_type": "markdown",
   "metadata": {},
   "source": [
    "# 1_4 VGG-19\n",
    "Instead of adding a classifier on top of VGG-19, here we unfreeze more of its existing layers."
   ]
  },
  {
   "cell_type": "code",
   "execution_count": 21,
   "metadata": {},
   "outputs": [],
   "source": [
    "model = models.vgg19(pretrained=False)\n",
    "\n",
    "for param in model.parameters():\n",
    "    param.requires_grad = False\n",
    "    \n",
    "in_features = model.classifier[-1].in_features\n",
    "\n",
    "model.classifier[6] = nn.Linear(in_features, 2)\n",
    "\n",
    "model = model.cuda()\n",
    "\n",
    "criterion = nn.CrossEntropyLoss(weight=torch.Tensor([1,5.5]).to(device))\n",
    "optimizer = optim.Adam(model.parameters())\n"
   ]
  },
  {
   "cell_type": "code",
   "execution_count": 22,
   "metadata": {},
   "outputs": [],
   "source": [
    "for i in range(3,7):\n",
    "    for parameter in model.classifier[i].parameters():\n",
    "        parameter.requires_grad = True"
   ]
  },
  {
   "cell_type": "code",
   "execution_count": 23,
   "metadata": {},
   "outputs": [
    {
     "name": "stdout",
     "output_type": "stream",
     "text": [
      "139,578,434 total parameters.\n",
      "16,789,506 training parameters.\n"
     ]
    }
   ],
   "source": [
    "# Find total parameters and trainable parameters\n",
    "total_params = sum(p.numel() for p in model.parameters())\n",
    "print(f'{total_params:,} total parameters.')\n",
    "total_trainable_params = sum(\n",
    "    p.numel() for p in model.parameters() if p.requires_grad)\n",
    "print(f'{total_trainable_params:,} training parameters.')"
   ]
  },
  {
   "cell_type": "code",
   "execution_count": 29,
   "metadata": {},
   "outputs": [
    {
     "name": "stdout",
     "output_type": "stream",
     "text": [
      "Test Loss: 2281.8093 Acc: 0.9001\n",
      "True negatives: 1955\n",
      "False positives: 0\n",
      "False negatives: 217\n",
      "True positives: 0\n",
      "Area under ROC curve: 0.724869470930027\n"
     ]
    },
    {
     "data": {
      "image/png": "[encoded data removed]",
      "text/plain": [
       "<Figure size 432x288 with 2 Axes>"
      ]
     },
     "metadata": {
      "needs_background": "light"
     },
     "output_type": "display_data"
    }
   ],
   "source": [
    "model = torch.load('models/1_4.pt')\n",
    "all_outputs, all_labels = test_model(model, nn.CrossEntropyLoss())\n",
    "summarize(all_outputs, all_labels)"
   ]
  },
  {
   "cell_type": "code",
   "execution_count": null,
   "metadata": {},
   "outputs": [],
   "source": []
  }
 ],
 "metadata": {
  "kernelspec": {
   "display_name": "Python 3",
   "language": "python",
   "name": "python3"
  },
  "language_info": {
   "codemirror_mode": {
    "name": "ipython",
    "version": 3
   },
   "file_extension": ".py",
   "mimetype": "text/x-python",
   "name": "python",
   "nbconvert_exporter": "python",
   "pygments_lexer": "ipython3",
   "version": "3.7.3"
  }
 },
 "nbformat": 4,
 "nbformat_minor": 2
}
